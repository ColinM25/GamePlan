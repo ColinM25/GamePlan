{
 "cells": [
  {
   "cell_type": "code",
   "execution_count": null,
   "metadata": {},
   "outputs": [],
   "source": [
    "import csv"
   ]
  },
  {
   "cell_type": "code",
   "execution_count": 54,
   "metadata": {},
   "outputs": [
    {
     "data": {
      "text/plain": [
       "'https://seatgeek.com/las-vegas-raiders-tickets/1-5-2025-las-vegas-nevada-allegiant-stadium/nfl/6446882'"
      ]
     },
     "execution_count": 54,
     "metadata": {},
     "output_type": "execute_result"
    }
   ],
   "source": [
    "game_ids = {\n",
    "    \"DEN\": '16890027',\n",
    "    \"CHI\": '16890066',\n",
    "    \"GB\": '16890066',\n",
    "    \"DET\": '16890046',\n",
    "    \"IND\": '16890111',\n",
    "    \"JAX\": '16890111',\n",
    "    \"TEN\": '6396403',\n",
    "    \"NE\": '16890256',\n",
    "    \"BUF\": '16890256',\n",
    "    \"MIA\": '16890297',\n",
    "    \"NYJ\": '16890297',\n",
    "    \"BAL\": '6413358',\n",
    "    \"CIN\": '16890335',\n",
    "    \"CLE\": '6413358',\n",
    "    \"PIT\": '16890335',\n",
    "    \"HOU\": '6396403',\n",
    "    \"KC\": '16890027',\n",
    "    \"LV\": '16890160',\n",
    "    \"LAC\": '16890160',\n",
    "    \"LAR\": '16890199',\n",
    "    \"SEA\": '16890199',\n",
    "    \"ARI\": '6471004',\n",
    "    \"SF\": '6471004',\n",
    "    \"ATL\": '16889912',\n",
    "    \"CAR\": '16889912',\n",
    "    \"NO\": '16890394',\n",
    "    \"TB\": '16890394',\n",
    "    \"NYG\": '16890313',\n",
    "    \"DAL\": '6446882',\n",
    "    \"WAS\": '6446882',\n",
    "    \"PHI\": '16890313',\n",
    "    \"MIN\": '16890046'\n",
    "}\n",
    "gameid = game_ids['DAL']\n",
    "url = f\"https://seatgeek.com/las-vegas-raiders-tickets/1-5-2025-las-vegas-nevada-allegiant-stadium/nfl/{gameid}\"\n",
    "url"
   ]
  },
  {
   "cell_type": "code",
   "execution_count": 55,
   "metadata": {},
   "outputs": [
    {
     "name": "stdout",
     "output_type": "stream",
     "text": [
      "Data has been written to data/ticket_prices.csv\n"
     ]
    }
   ],
   "source": [
    "top_prices_data = [\n",
    "    {\"team\": \"DAL\", \"price\": 16, \"section\": \"420\"},\n",
    "    {\"team\": \"DAL\", \"price\": 17, \"section\": \"STAND\"},\n",
    "    {\"team\": \"DAL\", \"price\": 17, \"section\": \"422\"},\n",
    "    {\"team\": \"WAS\", \"price\": 16, \"section\": \"420\"},\n",
    "    {\"team\": \"WAS\", \"price\": 17, \"section\": \"STAND\"},\n",
    "    {\"team\": \"WAS\", \"price\": 17, \"section\": \"422\"},\n",
    "]\n",
    "csv_filename = \"data/ticket_prices.csv\"\n",
    "\n",
    "with open(csv_filename, mode='a', newline='') as file:\n",
    "    writer = csv.DictWriter(file, fieldnames=[\"team\", \"price\", \"section\"])\n",
    "    \n",
    "    if file.tell() == 0:\n",
    "        writer.writeheader()\n",
    "    \n",
    "    writer.writerows(top_prices_data)\n",
    "\n",
    "print(f\"Data has been written to {csv_filename}\")"
   ]
  },
  {
   "cell_type": "code",
   "execution_count": null,
   "metadata": {},
   "outputs": [],
   "source": []
  }
 ],
 "metadata": {
  "kernelspec": {
   "display_name": "venv",
   "language": "python",
   "name": "python3"
  },
  "language_info": {
   "codemirror_mode": {
    "name": "ipython",
    "version": 3
   },
   "file_extension": ".py",
   "mimetype": "text/x-python",
   "name": "python",
   "nbconvert_exporter": "python",
   "pygments_lexer": "ipython3",
   "version": "3.11.4"
  }
 },
 "nbformat": 4,
 "nbformat_minor": 2
}
