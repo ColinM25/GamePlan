{
 "cells": [
  {
   "cell_type": "markdown",
   "metadata": {},
   "source": [
    "# **Game Plan**  \n",
    "### *For the Perfect Game at the Perfect Price*  \n",
    "#### Author: Colin Macy \n",
    "\n",
    "*****\n",
    "\n",
    "### Table of Contents\n",
    "\n",
    "1. [Introduction](#1.-Introduction)\n",
    "1. [Data Collection](#2-data-collection)\n",
    "1. [Database Management & Analysis](#3-database-management--analysis)\n",
    "1. [Mathematical Model](#4-mathematical-model)\n",
    "1. [Conclusion](#5.-Conclusion)\n",
    "1. [Further Implementation](#6-further-implementation)"
   ]
  },
  {
   "cell_type": "markdown",
   "metadata": {
    "collapsed": true,
    "jupyter": {
     "outputs_hidden": true
    }
   },
   "source": [
    "## 1. Introduction ##\n",
    "\n",
    "**Game Plan** is a comprehensive tool designed to assist sports enthusiasts in finding the optimal game to attend on the road by analyzing key travel and ticket costs. By leveraging advanced techniques such as web scraping, database management, and mathematical optimization, Game Plan identifies the most cost-effective travel plans for attending sports events, ensuring fans get the best value for their experience.\n",
    "\n",
    "For this demonstration, we focus on the **2024 NFL Wild Card Round**. This set of games has been chosen because scheduling and matchup information is already available. High-intensity playoff games are the highlight of any sports season, and this example will showcase how Game Plan identifies the most cost-effective game to attend based on a specified home airport location.\n",
    "\n",
    "As of this report, the **2025 NFL Schedule** has not yet been released, so optimization for a preferred team's road games is not currently possible. However, the ultimate goal of **Game Plan** is to empower fans to plan their travel ahead of each season. This tool will help users explore new cities while cheering on their favorite teams, all while keeping their travel budget in mind.\n",
    "\n",
    "### 2024 NFL Wild Card Weekend Bracket ###\n",
    "\n",
    "In the **2024 NFL Wild Card Round**, there are six exciting matchups, each presenting a potential travel destination for fans eager to experience the thrill of playoff football. The home teams represent the host cities for this round, which include:\n",
    "\n",
    "- **Buffalo, NY**\n",
    "- **Baltimore, MD**\n",
    "- **Houston, TX**\n",
    "- **Philadelphia, PA**\n",
    "- **Tampa Bay, FL**\n",
    "- **Los Angeles, CA**\n",
    "\n",
    "The matchups are divided into two conferences: the AFC and the NFC. Below is the bracket for the Wild Card Round.\n",
    "\n",
    "<div style=\"display: flex; justify-content: space-between;\">\n",
    "\n",
    "<div style=\"width: 48%;\">\n",
    "\n",
    "##### **AFC Matchups** #####\n",
    "| **Home**            | **Away**                 |\n",
    "|---------------------|--------------------------|\n",
    "| 2. **Buffalo Bills** | 7. **Denver Broncos**     |\n",
    "| 3. **Baltimore Ravens** | 6. **Pittsburgh Steelers** |\n",
    "| 4. **Houston Texans** | 5. **Los Angeles Chargers** |\n",
    "\n",
    "</div>\n",
    "\n",
    "<div style=\"width: 48%;\">\n",
    "\n",
    "##### **NFC Matchups** #####\n",
    "| **Home**                   | **Away**                        |\n",
    "|----------------------------|---------------------------------|\n",
    "| 2. **Philadelphia Eagles**  | 7. **Washington Commanders**    |\n",
    "| 3. **Los Angeles Rams**     | 6. **Green Bay Packers**        |\n",
    "| 4. **Tampa Bay Buccaneers** | 5. **Minnesota Vikings**        |\n",
    "\n",
    "</div>\n",
    "\n",
    "</div>\n",
    "\n",
    "For each of these games, **Game Plan** will provide a detailed breakdown of potential travel costs, including flights, hotel accommodations, and ticket prices, to help fans choose the best and most cost-effective game to attend.\n"
   ]
  },
  {
   "cell_type": "markdown",
   "metadata": {},
   "source": [
    "## 2. Data Collection ##\n",
    "\n",
    "In this section, we will gather data in three key areas that contribute the most to the overall cost of attending a game on the road: **Flight Data**, **Hotel Data**, and **Ticket Data**.\n",
    "\n",
    "### Flight Data\n",
    "\n",
    "To start, we have a web scraper that collects flight data from a chosen departure airport. The scraper is written in Python and uses libraries such as BeautifulSoup, Requests, and Datetime to search and gather **Google Flights** data.\n",
    "\n",
    "You can run the [flight web scraper](./flight_webscraper.ipynb) notebook to collect flight data from Google Flights. Simply modify the following variables to generate data for each NFL host city:\n",
    "- `departloc` (departure location)\n",
    "- `depart_time` (departure time)\n",
    "- `return_time` (return time)\n",
    "\n",
    "Below is an example of the output from the flight web scraper:\n",
    "\n",
    "| Team | Airline                                              | Departure Time | Arrival Time | Price |\n",
    "|------|------------------------------------------------------|----------------|--------------|-------|\n",
    "| MIN  | United (Operated by Republic Airways DBA United Express) | 09:00 AM       | 10:40 AM     | 639   |\n",
    "| MIN  | Delta (Operated by SkyWest DBA Delta Connection)     | 12:35 PM       | 02:11 PM     | 639   |\n",
    "| MIN  | American (Operated by Republic Airways as American Eagle) | 12:40 PM       | 02:20 PM     | 639   |\n",
    "\n",
    "\n",
    "### Hotel Data\n",
    "\n",
    "Next, we have another web scraper that collects hotel data from **Booking.com** for a given host city. This scraper works similarly to the flight scraper, gathering hotel room types, ratings, and prices for each city.\n",
    "\n",
    "You can run the [hotel web scraper](./hotel_webscraper.ipynb) notebook to collect hotel data from Booking.com. To generate data for each host city on the specified dates, modify the following variables:\n",
    "- `checkin` (check-in date)\n",
    "- `checkout` (check-out date)\n",
    "\n",
    "Here’s an example of the hotel data collected for a host city:\n",
    "\n",
    "| Team | Name                                                                                         | Price | Rating | Room Type     |\n",
    "|------|---------------------------------------------------------------------------------------------|-------|--------|---------------|\n",
    "| MIN  | Holiday Inn Express Hotel & Suites Minneapolis-Downtown Convention Center, an IHG Hotel     | 187   | 8.5    | 1 queen bed    |\n",
    "| MIN  | Hilton Garden Inn Minneapolis - University Area                                             | 194   | 7.6    | 2 queen beds   |\n",
    "| MIN  | Hilton Garden Inn Minneapolis Downtown                                                     | 177   | 7.8    | 2 queen beds   |\n",
    "\n",
    "\n",
    "### Ticket Data\n",
    "\n",
    "Finally, we have a script that generates ticket price data and stores it in a CSV file for further analysis. Due to the heavy monitoring and anti-bot measures (such as CAPTCHA and other security protocols) on ticket sale websites, it was not feasible to develop a fully automated web scraper for ticket prices.\n",
    "\n",
    "Instead, the ticket prices are manually added for each game by modifying and running the `top_prices_data` cell.\n",
    "\n",
    "You can run the [ticket data](./ticket_data.ipynb) notebook to collect ticket price data similar to what is shown below.\n",
    "\n",
    "| Team     | Price     | Section     |\n",
    "|----------|-----------|-------------|\n",
    "| MIN      | 418       | 345         |\n",
    "| MIN      | 418       | 344         |\n",
    "| MIN      | 424       | 318         |\n",
    "\n",
    "### Wild Card Weekend Host Cities\n",
    "\n",
    "For the **2024 NFL Wild Card Weekend**, we analyzed data from six host cities. These cities were selected based on the scheduled matchups, and the web scraping notebooks were run for each of them to gather comprehensive data on travel and ticket costs. The host cities and corresponding airports are shown below.\n",
    "\n",
    "- **Buffalo, NY** - Buffalo Niagara International Airport (BUF)\n",
    "- **Baltimore, MD** - Baltimore/Washington International Thurgood Marshall Airport (BWI)\n",
    "- **Houston, TX** - George Bush Intercontinental Airport (IAH)\n",
    "- **Philadelphia, PA** - Philadelphia International Airport (PHL)\n",
    "- **Tampa Bay, FL** - Tampa International Airport (TPA)\n",
    "- **Los Angeles, CA** - Los Angeles International Airport (LAX)\n",
    "\n",
    "In this example, I will be traveling from **Chicago** as it is my closest major airport. This means that for each of the six host cities, the flight data, hotel information, and ticket prices will be collected based on departing from **Chicago O'Hare International Airport (ORD)**.\n",
    "\n"
   ]
  },
  {
   "cell_type": "markdown",
   "metadata": {
    "collapsed": true,
    "jupyter": {
     "outputs_hidden": true
    }
   },
   "source": [
    "## 3. Database Management & Analysis ##\n",
    " "
   ]
  },
  {
   "cell_type": "markdown",
   "metadata": {},
   "source": []
  },
  {
   "cell_type": "markdown",
   "metadata": {},
   "source": [
    "## 4. Mathematical Model\n",
    "\n",
    "\n",
    "### Model Summary\n",
    "Our goal is to optimize a travel route to see a playoff football game at an affordable price. Reduce travel costs including flights, tickets, and hotels along with additional expenses. \n",
    "\n",
    "\n",
    "### Objective Function\n",
    "We aim to minimize the weighted total loss:\n",
    "\n",
    "$$\n",
    "\\min \\quad \\text{flight\\_cost} + \\text{hotel\\_cost} + \\text{ticket\\_cost} + \\text{additional\\_expenses}\n",
    "$$\n",
    "\n",
    "### Decision Variables\n",
    "\n",
    "### Constraints\n",
    "\n",
    "### Variable Definitions\n",
    "\n",
    "### Objective Function\n"
   ]
  },
  {
   "cell_type": "markdown",
   "metadata": {
    "collapsed": true,
    "jupyter": {
     "outputs_hidden": true
    }
   },
   "source": [
    "## 5. Conclusion ##\n",
    "\n"
   ]
  },
  {
   "cell_type": "markdown",
   "metadata": {},
   "source": [
    "## 6. Further Implementation ##"
   ]
  },
  {
   "cell_type": "markdown",
   "metadata": {},
   "source": [
    "Ultimately, the goal of GamePlan would be to search and optimize the cheapest weekend to attend a road game within a season for your specified sports team. Many sports enthusiasts look to travel and see their team on the road, and hopefully this tool with allow people to find budget-friendly destinations before the season begins. We can hopefully implement additional constraints and trade-off analysis that can balance budget-friendly with high stakes matchups.\n",
    "\n",
    "Want to see the Badgers play on the road? Run the optimizer and find the best game for you based on your budget and quality of matchup preference."
   ]
  }
 ],
 "metadata": {
  "@webio": {
   "lastCommId": null,
   "lastKernelId": null
  },
  "kernelspec": {
   "display_name": "venv",
   "language": "python",
   "name": "python3"
  },
  "language_info": {
   "file_extension": ".jl",
   "mimetype": "application/julia",
   "name": "python",
   "version": "3.11.4"
  }
 },
 "nbformat": 4,
 "nbformat_minor": 4
}
