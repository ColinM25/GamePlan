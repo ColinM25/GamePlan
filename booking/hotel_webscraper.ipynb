{
 "cells": [
  {
   "cell_type": "code",
   "execution_count": 2,
   "metadata": {},
   "outputs": [],
   "source": [
    "import requests\n",
    "from bs4 import BeautifulSoup"
   ]
  },
  {
   "cell_type": "code",
   "execution_count": 7,
   "metadata": {},
   "outputs": [],
   "source": [
    "# urls are sorted as 'Queen bed', '3 stars', and 'Hotels' for each city\n",
    "minneapolis_url = \"https://www.booking.com/searchresults.html?label=gen173bo-1DEg1mbGlnaHRzX2luZGV4KIICQgVpbmRleEgxWANoiQKIAQGYATG4AQfIAQzYAQPoAQH4AQaIAgGYAgKoAgO4Arfcl7sGwAIB0gIkYWY4MjUwNWYtOTY0NC00ZWJiLWIwYjQtYjcxM2I2OGI4YjYz2AIE4AIB&sid=064de026aa69e51a79ebeb022d0c60c1&aid=304142&ss=Minneapolis%2C+Minnesota%2C+United+States&ssne=Boston&ssne_untouched=Boston&lang=en-us&src=searchresults&dest_id=20067845&dest_type=city&ac_position=0&ac_click_type=b&ac_langcode=en&ac_suggestion_list_length=5&search_selected=true&search_pageview_id=8c9d9d647dde0344&checkin=2024-12-27&checkout=2024-12-29&group_adults=2&no_rooms=1&group_children=0&nflt=tdb%3D5%3Bclass%3D3%3Bht_id%3D204\" \n",
    "chicago_url = \"https://www.booking.com/searchresults.html?label=gen173bo-1DEg1mbGlnaHRzX2luZGV4KIICQgVpbmRleEgxWANoiQKIAQGYATG4AQfIAQzYAQPoAQH4AQaIAgGYAgKoAgO4Arfcl7sGwAIB0gIkYWY4MjUwNWYtOTY0NC00ZWJiLWIwYjQtYjcxM2I2OGI4YjYz2AIE4AIB&sid=064de026aa69e51a79ebeb022d0c60c1&aid=304142&ss=Chicago%2C+Illinois%2C+United+States&ssne=Minneapolis&ssne_untouched=Minneapolis&lang=en-us&src=searchresults&dest_id=20033173&dest_type=city&ac_position=1&ac_click_type=b&ac_langcode=en&ac_suggestion_list_length=5&search_selected=true&search_pageview_id=b32a9dbd5dc602f9&checkin=2024-12-27&checkout=2024-12-29&group_adults=2&no_rooms=1&group_children=0&nflt=tdb%3D5%3Bclass%3D3%3Bht_id%3D204\"\n",
    "detroit_url = \"https://www.booking.com/searchresults.html?label=gen173bo-1DEg1mbGlnaHRzX2luZGV4KIICQgVpbmRleEgxWANoiQKIAQGYATG4AQfIAQzYAQPoAQH4AQaIAgGYAgKoAgO4Arfcl7sGwAIB0gIkYWY4MjUwNWYtOTY0NC00ZWJiLWIwYjQtYjcxM2I2OGI4YjYz2AIE4AIB&sid=064de026aa69e51a79ebeb022d0c60c1&aid=304142&ss=detroit&ssne=Minneapolis&ssne_untouched=Minneapolis&lang=en-us&src=searchresults&dest_id=20064402&dest_type=city&ac_position=0&ac_click_type=b&ac_langcode=en&ac_suggestion_list_length=5&search_selected=true&search_pageview_id=54b49e47d6aa01b5&checkin=2024-12-27&checkout=2024-12-29&group_adults=2&no_rooms=1&group_children=0&nflt=tdb%3D5%3Bclass%3D3%3Bht_id%3D204\"\n",
    "greenbay_url = \"https://www.booking.com/searchresults.html?label=gen173bo-1DEg1mbGlnaHRzX2luZGV4KIICQgVpbmRleEgxWANoiQKIAQGYATG4AQfIAQzYAQPoAQH4AQaIAgGYAgKoAgO4Arfcl7sGwAIB0gIkYWY4MjUwNWYtOTY0NC00ZWJiLWIwYjQtYjcxM2I2OGI4YjYz2AIE4AIB&sid=064de026aa69e51a79ebeb022d0c60c1&aid=304142&ss=Green+Bay%2C+Wisconsin%2C+United+States&ssne=Detroit&ssne_untouched=Detroit&lang=en-us&src=searchresults&dest_id=20150048&dest_type=city&ac_position=0&ac_click_type=b&ac_langcode=en&ac_suggestion_list_length=5&search_selected=true&search_pageview_id=229b9e5c71980024&checkin=2024-12-27&checkout=2024-12-29&group_adults=2&no_rooms=1&group_children=0&nflt=tdb%3D5%3Bclass%3D3%3Bht_id%3D204\"\n",
    "nfc_north = [minneapolis_url, chicago_url, detroit_url, greenbay_url]"
   ]
  },
  {
   "cell_type": "code",
   "execution_count": null,
   "metadata": {},
   "outputs": [],
   "source": []
  },
  {
   "cell_type": "code",
   "execution_count": 8,
   "metadata": {},
   "outputs": [
    {
     "name": "stdout",
     "output_type": "stream",
     "text": [
      "200\n",
      "200\n",
      "200\n",
      "200\n"
     ]
    }
   ],
   "source": [
    "for i in nfc_north:\n",
    "    l=list()\n",
    "    o={}\n",
    "    headers={\"User-Agent\":\"Mozilla/5.0 (Windows NT 10.0; Win64; x64) AppleWebKit/537.36 (KHTML, like Gecko) Chrome/107.0.0.0 Safari/537.36\"}\n",
    "    resp = requests.get(i, headers=headers)\n",
    "    print(resp.status_code)"
   ]
  },
  {
   "cell_type": "code",
   "execution_count": null,
   "metadata": {},
   "outputs": [],
   "source": []
  }
 ],
 "metadata": {
  "kernelspec": {
   "display_name": "venv",
   "language": "python",
   "name": "python3"
  },
  "language_info": {
   "codemirror_mode": {
    "name": "ipython",
    "version": 3
   },
   "file_extension": ".py",
   "mimetype": "text/x-python",
   "name": "python",
   "nbconvert_exporter": "python",
   "pygments_lexer": "ipython3",
   "version": "3.11.4"
  }
 },
 "nbformat": 4,
 "nbformat_minor": 2
}
