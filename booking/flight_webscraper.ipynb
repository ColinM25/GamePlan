{
 "cells": [
  {
   "cell_type": "code",
   "execution_count": null,
   "metadata": {},
   "outputs": [
    {
     "ename": "",
     "evalue": "",
     "output_type": "error",
     "traceback": [
      "\u001b[1;31mFailed to start the Kernel. \n",
      "\u001b[1;31mUnable to start Kernel 'venv (Python 3.11.4)' due to a timeout waiting for the ports to get used. \n",
      "\u001b[1;31mView Jupyter <a href='command:jupyter.viewOutput'>log</a> for further details."
     ]
    }
   ],
   "source": [
    "import requests\n",
    "from bs4 import BeautifulSoup\n",
    "import pandas as pd\n",
    "import re\n",
    "import csv\n"
   ]
  },
  {
   "cell_type": "code",
   "execution_count": null,
   "metadata": {},
   "outputs": [],
   "source": [
    "# change these 3 to generate flights to each city for the date from the specific airport\n",
    "departloc = \"MSN\"\n",
    "depart_time = \"2025-01-4\"\n",
    "return_time = \"2025-01-6\"\n",
    "\n",
    "def generate_flight_links(departloc, depart_time, return_time, team_airports):\n",
    "    flight_links = {}\n",
    "    \n",
    "    for team, arriveloc in team_airports.items():\n",
    "        flight_url = f\"https://flights.booking.com/flights/{departloc}.AIRPORT-{arriveloc}.AIRPORT/?type=ROUNDTRIP&adults=1&cabinClass=ECONOMY&children=&from={departloc}.AIRPORT&to={arriveloc}.AIRPORT&fromCountry=US&toCountry=US&fromLocationName=Dane+County+Regional+Airport&toLocationName=Green+Bay%E2%80%93Austin+Straubel+International+Airport&depart={depart_time}&return={return_time}&sort=BEST&travelPurpose=leisure&aid=304142&label=gen173bo-1DEg1mbGlnaHRzX2luZGV4KIICQgVpbmRleEgxWANoiQKIAQGYATG4AQfIAQzYAQPoAQH4AQaIAgGYAgKoAgO4AvnvprsGwAIB0gIkMGI3ZTY2OTItMjdlYS00M2JjLThiZTAtOTRjODRhMDA5NzVh2AIE4AIB&adplat=www-searchresults_irene-web_shell_header-flight-missing_creative-5VHWvGC1SMhs4k08O29emO&stops=1\"\n",
    "        flight_links[team] = flight_url\n",
    "\n",
    "    return flight_links\n",
    "\n",
    "team_airports = {\n",
    "    \"MIN\": \"MSP\",  # Minnesota Vikings - Minneapolis-St. Paul International\n",
    "    \"CHI\": \"ORD\",  # Chicago Bears - O'Hare International\n",
    "    \"GB\": \"GRB\",   # Green Bay Packers - Green Bay–Austin Straubel International\n",
    "    \"DET\": \"DTW\",  # Detroit Lions - Detroit Metropolitan\n",
    "    \"IND\": \"IND\",  # Indianapolis Colts - Indianapolis International\n",
    "    \"JAX\": \"JAX\",  # Jacksonville Jaguars - Jacksonville International\n",
    "    \"TEN\": \"BNA\",  # Tennessee Titans - Nashville International\n",
    "    \"NE\": \"BOS\",   # New England Patriots - Logan International\n",
    "    \"BUF\": \"BUF\",  # Buffalo Bills - Buffalo Niagara International\n",
    "    \"MIA\": \"MIA\",  # Miami Dolphins - Miami International\n",
    "    \"NYJ\": \"JFK\",  # New York Jets - John F. Kennedy International\n",
    "    \"BAL\": \"BWI\",  # Baltimore Ravens - Baltimore/Washington International\n",
    "    \"CIN\": \"CVG\",  # Cincinnati Bengals - Cincinnati/NKY International\n",
    "    \"CLE\": \"CLE\",  # Cleveland Browns - Cleveland Hopkins International\n",
    "    \"PIT\": \"PIT\",  # Pittsburgh Steelers - Pittsburgh International\n",
    "    \"HOU\": \"IAH\",  # Houston Texans - George Bush Intercontinental\n",
    "    \"KC\": \"MCI\",   # Kansas City Chiefs - Kansas City International\n",
    "    \"LV\": \"LAS\",   # Las Vegas Raiders - McCarran International\n",
    "    \"LAC\": \"LAX\",  # Los Angeles Chargers - Los Angeles International\n",
    "    \"LAR\": \"LAX\",  # Los Angeles Rams - Los Angeles International\n",
    "    \"SEA\": \"SEA\",  # Seattle Seahawks - Seattle-Tacoma International\n",
    "    \"ARI\": \"PHX\",  # Arizona Cardinals - Phoenix Sky Harbor International\n",
    "    \"SF\": \"SFO\",   # San Francisco 49ers - San Francisco International\n",
    "    \"ATL\": \"ATL\",  # Atlanta Falcons - Hartsfield-Jackson Atlanta International\n",
    "    \"CAR\": \"CLT\",  # Carolina Panthers - Charlotte Douglas International\n",
    "    \"NO\": \"MSY\",   # New Orleans Saints - Louis Armstrong New Orleans International\n",
    "    \"TB\": \"TPA\",   # Tampa Bay Buccaneers - Tampa International\n",
    "    \"NYG\": \"JFK\",  # New York Giants - John F. Kennedy International\n",
    "    \"DAL\": \"DFW\",  # Dallas Cowboys - Dallas/Fort Worth International\n",
    "    \"WAS\": \"DCA\",  # Washington Commanders - Ronald Reagan Washington National\n",
    "    \"PHI\": \"PHL\",  # Philadelphia Eagles - Philadelphia International\n",
    "    \"CHI\": \"ORD\",  # Chicago Bears - O'Hare International\n",
    "    \"MIN\": \"MSP\",  # Minnesota Vikings - Minneapolis-St. Paul International\n",
    "}\n",
    "\n",
    "flight_links = generate_flight_links(departloc, depart_time, return_time, team_airports)\n",
    "\n",
    "for team, flight_url in flight_links.items():\n",
    "    print(f\"Flight link for {team}: {flight_url}\")\n"
   ]
  }
 ],
 "metadata": {
  "kernelspec": {
   "display_name": "venv",
   "language": "python",
   "name": "python3"
  },
  "language_info": {
   "name": "python",
   "version": "3.11.4"
  }
 },
 "nbformat": 4,
 "nbformat_minor": 2
}
