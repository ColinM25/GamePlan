{
 "cells": [
  {
   "cell_type": "code",
   "execution_count": 1,
   "metadata": {},
   "outputs": [],
   "source": [
    "import requests\n",
    "from bs4 import BeautifulSoup\n",
    "import pandas as pd\n",
    "import re\n",
    "import csv\n"
   ]
  },
  {
   "cell_type": "code",
   "execution_count": 16,
   "metadata": {},
   "outputs": [],
   "source": [
    "# change these 3 to generate flights to each city for the date from the specific airport\n",
    "departloc = \"MSN\"\n",
    "depart_time = \"2025-01-04\"\n",
    "return_time = \"2025-01-06\"\n",
    "\n",
    "def generate_flight_links(departloc, depart_time, return_time, team_airports):\n",
    "    flight_links = {}\n",
    "    \n",
    "    for team, arriveloc in team_airports.items():\n",
    "        flight_url = f\"https://flights.booking.com/flights/{departloc}.AIRPORT-{arriveloc}.AIRPORT/?type=ROUNDTRIP&adults=1&cabinClass=ECONOMY&children=&from=MSN.AIRPORT&to={arriveloc}.AIRPORT&fromCountry=US&toCountry=US&fromLocationName=Dane+County+Regional+Airport&toLocationName=Green+Bay%E2%80%93Austin+Straubel+International+Airport&depart={depart_time}&return={return_time}&sort=BEST&travelPurpose=leisure&aid=304142&label=gen173bo-1DEg1mbGlnaHRzX2luZGV4KIICQgVpbmRleEgxWANoiQKIAQGYATG4AQfIAQzYAQPoAQH4AQaIAgGYAgKoAgO4AvnvprsGwAIB0gIkMGI3ZTY2OTItMjdlYS00M2JjLThiZTAtOTRjODRhMDA5NzVh2AIE4AIB&adplat=www-searchresults_irene-web_shell_header-flight-missing_creative-5VHWvGC1SMhs4k08O29emO&stops=1\"\n",
    "        flight_links[team] = flight_url\n",
    "\n",
    "    return flight_links\n",
    "\n",
    "team_airports = {\n",
    "    \"MIN\": \"MSP\",  # Minnesota Vikings - Minneapolis-St. Paul International\n",
    "    \"CHI\": \"ORD\",  # Chicago Bears - O'Hare International\n",
    "    \"GB\": \"GRB\",   # Green Bay Packers - Green Bay–Austin Straubel International\n",
    "    \"DET\": \"DTW\",  # Detroit Lions - Detroit Metropolitan\n",
    "    \"IND\": \"IND\",  # Indianapolis Colts - Indianapolis International\n",
    "    \"JAX\": \"JAX\",  # Jacksonville Jaguars - Jacksonville International\n",
    "    \"TEN\": \"BNA\",  # Tennessee Titans - Nashville International\n",
    "    \"NE\": \"BOS\",   # New England Patriots - Logan International\n",
    "    \"BUF\": \"BUF\",  # Buffalo Bills - Buffalo Niagara International\n",
    "    \"MIA\": \"MIA\",  # Miami Dolphins - Miami International\n",
    "    \"NYJ\": \"JFK\",  # New York Jets - John F. Kennedy International\n",
    "    \"BAL\": \"BWI\",  # Baltimore Ravens - Baltimore/Washington International\n",
    "    \"CIN\": \"CVG\",  # Cincinnati Bengals - Cincinnati/NKY International\n",
    "    \"CLE\": \"CLE\",  # Cleveland Browns - Cleveland Hopkins International\n",
    "    \"PIT\": \"PIT\",  # Pittsburgh Steelers - Pittsburgh International\n",
    "    \"HOU\": \"IAH\",  # Houston Texans - George Bush Intercontinental\n",
    "    \"KC\": \"MCI\",   # Kansas City Chiefs - Kansas City International\n",
    "    \"LV\": \"LAS\",   # Las Vegas Raiders - McCarran International\n",
    "    \"LAC\": \"LAX\",  # Los Angeles Chargers - Los Angeles International\n",
    "    \"LAR\": \"LAX\",  # Los Angeles Rams - Los Angeles International\n",
    "    \"SEA\": \"SEA\",  # Seattle Seahawks - Seattle-Tacoma International\n",
    "    \"ARI\": \"PHX\",  # Arizona Cardinals - Phoenix Sky Harbor International\n",
    "    \"SF\": \"SFO\",   # San Francisco 49ers - San Francisco International\n",
    "    \"ATL\": \"ATL\",  # Atlanta Falcons - Hartsfield-Jackson Atlanta International\n",
    "    \"CAR\": \"CLT\",  # Carolina Panthers - Charlotte Douglas International\n",
    "    \"NO\": \"MSY\",   # New Orleans Saints - Louis Armstrong New Orleans International\n",
    "    \"TB\": \"TPA\",   # Tampa Bay Buccaneers - Tampa International\n",
    "    \"NYG\": \"JFK\",  # New York Giants - John F. Kennedy International\n",
    "    \"DAL\": \"DFW\",  # Dallas Cowboys - Dallas/Fort Worth International\n",
    "    \"WAS\": \"DCA\",  # Washington Commanders - Ronald Reagan Washington National\n",
    "    \"PHI\": \"PHL\",  # Philadelphia Eagles - Philadelphia International\n",
    "    \"CHI\": \"ORD\",  # Chicago Bears - O'Hare International\n",
    "    \"MIN\": \"MSP\",  # Minnesota Vikings - Minneapolis-St. Paul International\n",
    "}\n",
    "\n",
    "# flight_links['MIN'] would ouput the link FROM the chosen departloc TO min\n",
    "flight_links = generate_flight_links(departloc, depart_time, return_time, team_airports)\n"
   ]
  },
  {
   "cell_type": "code",
   "execution_count": 18,
   "metadata": {},
   "outputs": [
    {
     "name": "stdout",
     "output_type": "stream",
     "text": [
      "https://flights.booking.com/flights/MSN.AIRPORT-CLT.AIRPORT/?type=ROUNDTRIP&adults=1&cabinClass=ECONOMY&children=&from=MSN.AIRPORT&to=CLT.AIRPORT&fromCountry=US&toCountry=US&fromLocationName=Dane+County+Regional+Airport&toLocationName=Green+Bay%E2%80%93Austin+Straubel+International+Airport&depart=2025-01-04&return=2025-01-06&sort=BEST&travelPurpose=leisure&aid=304142&label=gen173bo-1DEg1mbGlnaHRzX2luZGV4KIICQgVpbmRleEgxWANoiQKIAQGYATG4AQfIAQzYAQPoAQH4AQaIAgGYAgKoAgO4AvnvprsGwAIB0gIkMGI3ZTY2OTItMjdlYS00M2JjLThiZTAtOTRjODRhMDA5NzVh2AIE4AIB&adplat=www-searchresults_irene-web_shell_header-flight-missing_creative-5VHWvGC1SMhs4k08O29emO&stops=1\n"
     ]
    }
   ],
   "source": [
    "flight_links['CAR']\n",
    "nfc_north_codes = ['MIN', 'CHI', 'DET', 'GB']\n",
    "nfc_east_codes = ['PHI', 'WSH', 'DAL', 'NYG']\n",
    "nfc_south_codes = ['TB', 'ATL', 'NO', 'CAR']\n",
    "nfc_west_codes = ['LAR', 'SEA', 'ARI', 'SF']\n",
    "afc_west_codes = ['KC', 'LAC', 'DEN', 'LV']\n",
    "afc_east_codes = ['BUF', 'MIA', 'NYJ', 'NE']\n",
    "afc_south_codes = ['HOU', 'IND', 'JAX', 'TEN']\n",
    "afc_north_codes = ['PIT', 'BAL', 'CIN', 'CLE']\n",
    "all_codes = nfc_north_codes + nfc_east_codes + nfc_south_codes + nfc_west_codes + afc_west_codes + afc_east_codes + afc_south_codes + afc_north_codes"
   ]
  },
  {
   "cell_type": "code",
   "execution_count": 67,
   "metadata": {},
   "outputs": [],
   "source": [
    "def scrape_flight_details(url, team_name):\n",
    "    headers = {\n",
    "        \"User-Agent\": \"Mozilla/5.0 (Windows NT 10.0; Win64; x64) AppleWebKit/537.36 (KHTML, like Gecko) Chrome/91.0.4472.124 Safari/537.36\"\n",
    "    }\n",
    "    \n",
    "    # Send the request and check for success\n",
    "    response = requests.get(url, headers=headers)\n",
    "    if response.status_code != 200:\n",
    "        print(f\"Failed to retrieve the webpage. Status code: {response.status_code}\")\n",
    "        return []\n",
    "    \n",
    "    # Parse the page with BeautifulSoup\n",
    "    soup = BeautifulSoup(response.text, \"html.parser\")\n",
    "\n",
    "    # List to store flight details\n",
    "    flight_details = []\n",
    "\n",
    "    # Extract flight information containers\n",
    "    flights = soup.select(\".Tab-module__item-panel___Z9erA.Tab-module__item-panel--active___5rRzY\")\n",
    "\n",
    "    for flight in flights:\n",
    "        try:\n",
    "            # Extract airline name\n",
    "            airline_element = flight.select_one(\".Frame-module__margin-top_2___9V-am\")  # Update with the correct class\n",
    "            airline_name = airline_element.get_text(strip=True) if airline_element else \"N/A\"\n",
    "            print(airline_name)\n",
    "\n",
    "            # Extract departure and arrival times for the outgoing flight (to destination)\n",
    "            departure_time_outbound_element = flight.select_one(\".Text-module__root--variant-strong_1___L2d5B\")  # Update with correct class\n",
    "            arrival_time_outbound_element = flight.select_one(\".Text-module__root--variant-strong_1___L2d5B\")  # Update with correct class\n",
    "            departure_time_outbound = departure_time_outbound_element.get_text(strip=True) if departure_time_outbound_element else \"N/A\"\n",
    "            arrival_time_outbound = arrival_time_outbound_element.get_text(strip=True) if arrival_time_outbound_element else \"N/A\"\n",
    "\n",
    "            # Extract departure and arrival times for the return flight\n",
    "            departure_time_return_element = flight.select_one(\".departure-time-return-selector\")  # Update with correct class\n",
    "            arrival_time_return_element = flight.select_one(\".arrival-time-return-selector\")  # Update with correct class\n",
    "            departure_time_return = departure_time_return_element.get_text(strip=True) if departure_time_return_element else \"N/A\"\n",
    "            arrival_time_return = arrival_time_return_element.get_text(strip=True) if arrival_time_return_element else \"N/A\"\n",
    "\n",
    "            # Extract price\n",
    "            price_element = flight.select_one(\".price-selector\")  # Update with the correct class\n",
    "            price_text = price_element.get_text(strip=True) if price_element else \"N/A\"\n",
    "            flight_price = int(\"\".join(filter(str.isdigit, price_text))) if price_text != \"N/A\" else \"N/A\"\n",
    "\n",
    "            # Append the details to the list\n",
    "            flight_details.append({\n",
    "                \"Team\": team_name,\n",
    "                \"Airline\": airline_name,\n",
    "                \"Departure Time (Outbound)\": departure_time_outbound,\n",
    "                \"Arrival Time (Outbound)\": arrival_time_outbound,\n",
    "                \"Departure Time (Return)\": departure_time_return,\n",
    "                \"Arrival Time (Return)\": arrival_time_return,\n",
    "                \"Price\": flight_price\n",
    "            })\n",
    "        except Exception as e:\n",
    "            print(f\"Error processing flight: {e}\")\n",
    "            continue\n",
    "\n",
    "    return flight_details\n"
   ]
  },
  {
   "cell_type": "code",
   "execution_count": 68,
   "metadata": {},
   "outputs": [
    {
     "name": "stdout",
     "output_type": "stream",
     "text": [
      "N/A\n",
      "{'Team': 'GB', 'Airline': 'N/A', 'Departure Time (Outbound)': 'N/A', 'Arrival Time (Outbound)': 'N/A', 'Departure Time (Return)': 'N/A', 'Arrival Time (Return)': 'N/A', 'Price': 'N/A'}\n"
     ]
    }
   ],
   "source": [
    "url = \"https://flights.booking.com/flights/MSN.AIRPORT-GRB.AIRPORT/?type=ROUNDTRIP&adults=1&cabinClass=ECONOMY&children=&from=MSN.AIRPORT&to=GRB.AIRPORT&fromCountry=US&toCountry=US&fromLocationName=Dane+County+Regional+Airport&toLocationName=Green+Bay%E2%80%93Austin+Straubel+International+Airport&depart=2025-01-04&return=2025-01-06&sort=BEST&travelPurpose=leisure&aid=304142&label=gen173bo-1DEg1mbGlnaHRzX2luZGV4KIICQgVpbmRleEgxWANoiQKIAQGYATG4AQfIAQzYAQPoAQH4AQaIAgGYAgKoAgO4AvnvprsGwAIB0gIkMGI3ZTY2OTItMjdlYS00M2JjLThiZTAtOTRjODRhMDA5NzVh2AIE4AIB&adplat=www-searchresults_irene-web_shell_header-flight-missing_creative-5VHWvGC1SMhs4k08O29emO&stops=1\"\n",
    "team_name = \"GB\"\n",
    "flights = scrape_flight_details(url, team_name)\n",
    "\n",
    "# Output the details\n",
    "for flight in flights:\n",
    "    print(flight)\n"
   ]
  },
  {
   "cell_type": "code",
   "execution_count": null,
   "metadata": {},
   "outputs": [],
   "source": []
  },
  {
   "cell_type": "code",
   "execution_count": null,
   "metadata": {},
   "outputs": [],
   "source": []
  }
 ],
 "metadata": {
  "kernelspec": {
   "display_name": "venv",
   "language": "python",
   "name": "python3"
  },
  "language_info": {
   "codemirror_mode": {
    "name": "ipython",
    "version": 3
   },
   "file_extension": ".py",
   "mimetype": "text/x-python",
   "name": "python",
   "nbconvert_exporter": "python",
   "pygments_lexer": "ipython3",
   "version": "3.11.4"
  }
 },
 "nbformat": 4,
 "nbformat_minor": 2
}
