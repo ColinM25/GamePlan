{
 "cells": [
  {
   "cell_type": "code",
   "execution_count": 138,
   "metadata": {},
   "outputs": [],
   "source": [
    "import requests\n",
    "from bs4 import BeautifulSoup\n",
    "import pandas as pd\n",
    "import re\n",
    "import csv\n",
    "from selenium import webdriver\n",
    "from datetime import datetime\n",
    "\n"
   ]
  },
  {
   "cell_type": "code",
   "execution_count": 154,
   "metadata": {},
   "outputs": [],
   "source": [
    "# change these 3 to generate flights to each city for the date from the specific airport\n",
    "departloc = \"ORD\"\n",
    "depart_time = \"2025-01-04\"\n",
    "return_time = \"2025-01-06\"\n",
    "\n",
    "def generate_flight_links(departloc, depart_time, return_time, team_airports):\n",
    "    flight_links = {}\n",
    "    \n",
    "    for team, arriveloc in team_airports.items():\n",
    "        flight_url = f\"https://www.google.com/travel/flights?q=Flights%20to%20{arriveloc}%20from%20{departloc}%20on%20{depart_time}%20through%20{return_time}%202%20seats%20\"\n",
    "        flight_links[team] = flight_url\n",
    "\n",
    "    return flight_links\n",
    "\n",
    "team_airports = {\n",
    "    \"MIN\": \"MSP\",  # Minnesota Vikings - Minneapolis-St. Paul International\n",
    "    \"CHI\": \"ORD\",  # Chicago Bears - O'Hare International\n",
    "    \"GB\": \"GRB\",   # Green Bay Packers - Green Bay–Austin Straubel International\n",
    "    \"DET\": \"DTW\",  # Detroit Lions - Detroit Metropolitan\n",
    "    \"IND\": \"IND\",  # Indianapolis Colts - Indianapolis International\n",
    "    \"JAX\": \"JAX\",  # Jacksonville Jaguars - Jacksonville International\n",
    "    \"TEN\": \"BNA\",  # Tennessee Titans - Nashville International\n",
    "    \"NE\": \"BOS\",   # New England Patriots - Logan International\n",
    "    \"BUF\": \"BUF\",  # Buffalo Bills - Buffalo Niagara International\n",
    "    \"MIA\": \"MIA\",  # Miami Dolphins - Miami International\n",
    "    \"NYJ\": \"JFK\",  # New York Jets - John F. Kennedy International\n",
    "    \"BAL\": \"BWI\",  # Baltimore Ravens - Baltimore/Washington International\n",
    "    \"CIN\": \"CVG\",  # Cincinnati Bengals - Cincinnati/NKY International\n",
    "    \"CLE\": \"CLE\",  # Cleveland Browns - Cleveland Hopkins International\n",
    "    \"PIT\": \"PIT\",  # Pittsburgh Steelers - Pittsburgh International\n",
    "    \"HOU\": \"IAH\",  # Houston Texans - George Bush Intercontinental\n",
    "    \"KC\": \"MCI\",   # Kansas City Chiefs - Kansas City International\n",
    "    \"LV\": \"LAS\",   # Las Vegas Raiders - McCarran International\n",
    "    \"LAC\": \"LAX\",  # Los Angeles Chargers - Los Angeles International\n",
    "    \"LAR\": \"LAX\",  # Los Angeles Rams - Los Angeles International\n",
    "    \"SEA\": \"SEA\",  # Seattle Seahawks - Seattle-Tacoma International\n",
    "    \"ARI\": \"PHX\",  # Arizona Cardinals - Phoenix Sky Harbor International\n",
    "    \"SF\": \"SFO\",   # San Francisco 49ers - San Francisco International\n",
    "    \"ATL\": \"ATL\",  # Atlanta Falcons - Hartsfield-Jackson Atlanta International\n",
    "    \"CAR\": \"CLT\",  # Carolina Panthers - Charlotte Douglas International\n",
    "    \"NO\": \"MSY\",   # New Orleans Saints - Louis Armstrong New Orleans International\n",
    "    \"TB\": \"TPA\",   # Tampa Bay Buccaneers - Tampa International\n",
    "    \"NYG\": \"JFK\",  # New York Giants - John F. Kennedy International\n",
    "    \"DAL\": \"DFW\",  # Dallas Cowboys - Dallas/Fort Worth International\n",
    "    \"WAS\": \"DCA\",  # Washington Commanders - Ronald Reagan Washington National\n",
    "    \"PHI\": \"PHL\",  # Philadelphia Eagles - Philadelphia International\n",
    "    \"CHI\": \"ORD\",  # Chicago Bears - O'Hare International\n",
    "    \"MIN\": \"MSP\",  # Minnesota Vikings - Minneapolis-St. Paul International\n",
    "}\n",
    "\n",
    "# flight_links['MIN'] would ouput the link FROM the chosen departloc TO min\n",
    "flight_links = generate_flight_links(departloc, depart_time, return_time, team_airports)\n"
   ]
  },
  {
   "cell_type": "code",
   "execution_count": 160,
   "metadata": {},
   "outputs": [
    {
     "name": "stdout",
     "output_type": "stream",
     "text": [
      "https://www.google.com/travel/flights?q=Flights%20to%20SEA%20from%20ORD%20on%202025-01-04%20through%202025-01-06%202%20seats%20\n"
     ]
    }
   ],
   "source": [
    "nfc_north_codes = ['MIN', 'CHI', 'DET', 'GB']\n",
    "nfc_east_codes = ['PHI', 'WSH', 'DAL', 'NYG']\n",
    "nfc_south_codes = ['TB', 'ATL', 'NO', 'CAR']\n",
    "nfc_west_codes = ['LAR', 'SEA', 'ARI', 'SF']\n",
    "afc_west_codes = ['KC', 'LAC', 'DEN', 'LV']\n",
    "afc_east_codes = ['BUF', 'MIA', 'NYJ', 'NE']\n",
    "afc_south_codes = ['HOU', 'IND', 'JAX', 'TEN']\n",
    "afc_north_codes = ['PIT', 'BAL', 'CIN', 'CLE']\n",
    "all_codes = nfc_north_codes + nfc_east_codes + nfc_south_codes + nfc_west_codes + afc_west_codes + afc_east_codes + afc_south_codes + afc_north_codes\n",
    "\n",
    "# gives website link to flights to TEN\n",
    "print(flight_links['SEA'])"
   ]
  },
  {
   "cell_type": "code",
   "execution_count": 157,
   "metadata": {},
   "outputs": [],
   "source": [
    "def time_parser(time):\n",
    "    next_day = \"+1\" if \"+1\" in time else \"\"\n",
    "    cleaned_time = time.replace('\\u202f', '').replace(\"+1\", \"\")\n",
    "    formatted_time = datetime.strptime(cleaned_time, \"%I:%M%p\").strftime(\"%I:%M %p\")\n",
    "    return f\"{formatted_time} {next_day}\".strip()\n",
    "\n",
    "def scrape_flight_details(url, team_name):\n",
    "    headers = {\n",
    "        \"User-Agent\": \"Mozilla/5.0 (Windows NT 10.0; Win64; x64) AppleWebKit/537.36 (KHTML, like Gecko) Chrome/91.0.4472.124 Safari/537.36\"\n",
    "    }\n",
    "    \n",
    "    response = requests.get(url, headers=headers)\n",
    "    if response.status_code != 200:\n",
    "        print(f\"Failed to retrieve the webpage. Status code: {response.status_code}\")\n",
    "        return []\n",
    "    \n",
    "    soup = BeautifulSoup(response.text, \"html.parser\")\n",
    "\n",
    "    flight_details = []\n",
    "\n",
    "    # Select all elements with class \"Rk10dc\"\n",
    "    flights = soup.select(\".Rk10dc\")\n",
    "\n",
    "    for flight in flights:\n",
    "        try:\n",
    "            # Get all child elements (e.g., <li>) of the current flight section\n",
    "            flight_items = flight.find_all(\"li\", recursive=False)  # Use recursive=False to limit to direct children\n",
    "\n",
    "            for flight_item in flight_items:\n",
    "                # Extract airline name\n",
    "                airline_element = flight_item.select_one(\".h1fkLb\")  # Update with the correct class\n",
    "                airline_name = airline_element.get_text(strip=True) if airline_element else \"N/A\"\n",
    "\n",
    "\n",
    "\n",
    "                # Extract departure and arrival times for the outgoing flight\n",
    "                departure_time_outbound_element = flight_item.select_one(\".wtdjmc.YMlIz.ogfYpf.tPgKwe\")  # Update with correct class\n",
    "                arrival_time_outbound_element = flight_item.select_one(\".XWcVob.YMlIz.ogfYpf.tPgKwe\")  # Update with correct class\n",
    "                departure_time_outbound = time_parser(departure_time_outbound_element.get_text(strip=True) if departure_time_outbound_element else \"N/A\")\n",
    "                arrival_time_outbound = time_parser(arrival_time_outbound_element.get_text(strip=True) if arrival_time_outbound_element else \"N/A\")\n",
    "                \n",
    "                # Extract price\n",
    "                price_element = flight_item.select_one(\".YMlIz.FpEdX\")  # Update with the correct class\n",
    "                price_text = price_element.get_text(strip=True) if price_element else \"N/A\"\n",
    "                flight_price = int(\"\".join(filter(str.isdigit, price_text))) if price_text != \"N/A\" else \"N/A\"\n",
    "\n",
    "                # Append the details to the list\n",
    "                new_flight = {\n",
    "                    \"Team\": team_name,\n",
    "                    \"Airline\": airline_name,\n",
    "                    \"Departure Time (Outbound)\": departure_time_outbound,\n",
    "                    \"Arrival Time (Outbound)\": arrival_time_outbound,\n",
    "                    \"Price\": flight_price\n",
    "                }\n",
    "\n",
    "                if new_flight not in flight_details and \"N/A\" not in new_flight.values():\n",
    "                    flight_details.append(new_flight)\n",
    "        except Exception as e:\n",
    "            continue\n",
    "\n",
    "    return flight_details\n"
   ]
  },
  {
   "cell_type": "code",
   "execution_count": 158,
   "metadata": {},
   "outputs": [
    {
     "name": "stdout",
     "output_type": "stream",
     "text": [
      "{'Team': 'GB', 'Airline': 'UnitedOperated by Republic Airways DBA United Express', 'Departure Time (Outbound)': '05:23 PM', 'Arrival Time (Outbound)': '11:09 PM', 'Price': 635}\n",
      "{'Team': 'GB', 'Airline': 'Delta', 'Departure Time (Outbound)': '07:00 AM', 'Arrival Time (Outbound)': '11:44 AM', 'Price': 826}\n",
      "{'Team': 'GB', 'Airline': 'DeltaOperated by Endeavor Air DBA Delta Connection', 'Departure Time (Outbound)': '05:06 PM', 'Arrival Time (Outbound)': '11:55 PM', 'Price': 826}\n",
      "{'Team': 'GB', 'Airline': 'American', 'Departure Time (Outbound)': '06:44 AM', 'Arrival Time (Outbound)': '12:27 PM', 'Price': 937}\n",
      "{'Team': 'GB', 'Airline': 'DeltaOperated by Endeavor Air DBA Delta Connection', 'Departure Time (Outbound)': '05:59 PM', 'Arrival Time (Outbound)': '12:38 AM +1', 'Price': 966}\n",
      "{'Team': 'GB', 'Airline': 'DeltaOperated by Endeavor Air DBA Delta Connection', 'Departure Time (Outbound)': '10:40 AM', 'Arrival Time (Outbound)': '04:52 PM', 'Price': 1026}\n",
      "{'Team': 'GB', 'Airline': 'UnitedOperated by Republic Airways DBA United Express', 'Departure Time (Outbound)': '08:10 AM', 'Arrival Time (Outbound)': '01:36 PM', 'Price': 1217}\n"
     ]
    }
   ],
   "source": [
    "# DEMO\n",
    "\n",
    "url = f\"https://www.google.com/travel/flights?q=Flights%20to%20BWI%20from%20MSN%20on%202025-01-04%20through%202025-01-06%202%20seats%20\"\n",
    "team_name = \"GB\"\n",
    "flights = scrape_flight_details(url, team_name)\n",
    "\n",
    "for flight in flights:\n",
    "    print(flight)\n"
   ]
  },
  {
   "cell_type": "code",
   "execution_count": 159,
   "metadata": {},
   "outputs": [
    {
     "name": "stdout",
     "output_type": "stream",
     "text": [
      "No flights found for CHI\n",
      "No flights found for SEA\n"
     ]
    }
   ],
   "source": [
    "def save_to_flight_csv(flight_details, filename='ORDflightsWK18.csv'):\n",
    "    with open(filename, mode='a', newline='', encoding='utf-8') as file:\n",
    "        writer = csv.DictWriter(file, fieldnames=[\"Team\", \"Airline\", \"Departure Time (Outbound)\", \"Arrival Time (Outbound)\", \"Price\"])\n",
    "        \n",
    "        if file.tell() == 0:\n",
    "            writer.writeheader()\n",
    "\n",
    "        writer.writerows(flight_details)\n",
    "\n",
    "for team_code, flight_url in flight_links.items():\n",
    "    flights = scrape_flight_details(flight_url, team_code)\n",
    "\n",
    "    if flights:\n",
    "        save_to_flight_csv(flights)\n",
    "    else:\n",
    "        print(f\"No flights found for {team_code}\")"
   ]
  },
  {
   "cell_type": "code",
   "execution_count": null,
   "metadata": {},
   "outputs": [],
   "source": []
  }
 ],
 "metadata": {
  "kernelspec": {
   "display_name": "venv",
   "language": "python",
   "name": "python3"
  },
  "language_info": {
   "codemirror_mode": {
    "name": "ipython",
    "version": 3
   },
   "file_extension": ".py",
   "mimetype": "text/x-python",
   "name": "python",
   "nbconvert_exporter": "python",
   "pygments_lexer": "ipython3",
   "version": "3.11.4"
  }
 },
 "nbformat": 4,
 "nbformat_minor": 2
}
