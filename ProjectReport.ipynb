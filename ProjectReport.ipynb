{
 "cells": [
  {
   "cell_type": "markdown",
   "metadata": {},
   "source": [
    "# **Game Plan**  \n",
    "### *For the Perfect Game at the Perfect Price*  \n",
    "#### Author: Colin Macy \n",
    "\n",
    "*****\n",
    "\n",
    "### Table of Contents\n",
    "\n",
    "1. [Introduction](#1.-Introduction)\n",
    "1. [Data Collection](#2-data-collection)\n",
    "1. [Database Management & Analysis](#3-database-management--analysis)\n",
    "1. [Mathematical Model](#4-mathematical-model)\n",
    "1. [Conclusion](#5.-Conclusion)\n",
    "1. [Further Implementation](#6-further-implementation)"
   ]
  },
  {
   "cell_type": "markdown",
   "metadata": {
    "collapsed": true,
    "jupyter": {
     "outputs_hidden": true
    }
   },
   "source": [
    "## 1. Introduction ##"
   ]
  },
  {
   "cell_type": "markdown",
   "metadata": {},
   "source": [
    "Game Plan is a comprehensive tool designed to help sports enthusiasts find the optimal game to attend on the road by analyzing travel and ticket costs. By leveraging web scraping, database management, and mathematical optimization, Game Plan identifies the most cost-effective travel plans for attending sports events.\n",
    "\n",
    "\n",
    "Ultimately, the goal of GamePlan would be to search and optimize the cheapest weekend to attend a road game within a season for your specified sports team. Many sports enthusiasts look to travel and see their team on the road, and hopefully this tool with allow people to find budget-friendly destinations before the season begins. We can hopefully implement additional constraints and trade-off analysis that can balance budget-friendly with high stakes matchups. \n",
    "\n",
    "Want to see the Badgers play on the road? Run the optimizer and find the best game for you based on your budget and quality of matchup preference. "
   ]
  },
  {
   "cell_type": "markdown",
   "metadata": {},
   "source": [
    "## 2. Data Collection ##"
   ]
  },
  {
   "cell_type": "markdown",
   "metadata": {},
   "source": []
  },
  {
   "cell_type": "markdown",
   "metadata": {
    "collapsed": true,
    "jupyter": {
     "outputs_hidden": true
    }
   },
   "source": [
    "## 3. Database Management & Analysis ##\n",
    " "
   ]
  },
  {
   "cell_type": "markdown",
   "metadata": {},
   "source": []
  },
  {
   "cell_type": "markdown",
   "metadata": {},
   "source": [
    "## 4. Mathematical Model\n",
    "\n",
    "\n",
    "### Model Summary\n",
    "Our goal is to optimize a travel route to see a playoff football game at an affordable price. Reduce travel costs including flights, tickets, and hotels along with additional expenses. \n",
    "\n",
    "\n",
    "### Objective Function\n",
    "We aim to minimize the weighted total loss:\n",
    "\n",
    "$$\n",
    "\\min \\quad \\text{flight\\_cost} + \\text{hotel\\_cost} + \\text{ticket\\_cost} + \\text{additional\\_expenses}\n",
    "$$\n",
    "\n",
    "### Decision Variables\n",
    "\n",
    "### Constraints\n",
    "\n",
    "### Variable Definitions\n",
    "\n",
    "### Objective Function\n"
   ]
  },
  {
   "cell_type": "markdown",
   "metadata": {
    "collapsed": true,
    "jupyter": {
     "outputs_hidden": true
    }
   },
   "source": [
    "## 5. Conclusion ##\n",
    "\n",
    "After completing our path smoothing optimization project using Baldur's Gate II maps as our testing ground, we successfully demonstrated how combining A* pathfinding with optimization techniques can transform rigid grid-based paths into smooth, natural-looking trajectories. Our implementation revealed that a smoothness weight (α) of 1.0 and proximity weight (β) of 0.1 provided an effective balance between path smoothing and maintaining efficient routes. Testing on different map segments, particularly in regions (300,350,200,250) and (250,300,150,200), showed that our approach successfully eliminated unrealistic sharp turns while preserving the strategic advantages of optimal pathfinding. The improvement was especially noticeable around obstacles, where our solution created naturally flowing paths instead of the jagged movements typical in traditional grid-based systems. This enhancement directly addresses a common criticism of classic RPGs where character movement often appears artificial and constrained by the underlying grid system.\n",
    "\n",
    "One key finding from our implementation was the careful balance needed between smoothness and path adherence. When we increased the smoothness weight relative to the proximity weight, the paths exhibited more gradual curves but sometimes deviated too far from optimal routes. This trade-off proved particularly important in game environments, where both movement aesthetics and path efficiency affect player experience. Our segment-based processing approach, using segments of 10 points, successfully managed computational complexity while maintaining path quality across different map regions. Through our experimentation with different parameter combinations, we discovered that local path characteristics significantly influenced the optimal balance between smoothness and proximity constraints. In areas with dense obstacles, stronger adherence to the original path proved beneficial, while open areas benefited from increased smoothing.\n",
    "\n",
    "Looking toward future developments, an interesting direction would be to implement adaptive parameter tuning based on local path characteristics. Such a system could automatically adjust smoothing parameters based on obstacle density and path complexity, increasing path adherence in crowded areas while allowing for smoother movements in open spaces. This enhancement would be particularly valuable for modern game remakes, where players expect sophisticated character movement while still maintaining strategic depth. By analyzing local environmental conditions, the system could create more context-aware paths that better balance the competing needs of natural movement and efficient navigation. Additionally, this approach could be extended to consider dynamic obstacles and varying terrain types, further enhancing the realism of character movement while preserving the tactical elements that make games like Baldur's Gate engaging. The success of our current implementation provides a strong foundation for these future improvements, demonstrating the potential for optimization techniques to enhance classic game mechanics while meeting modern player expectations."
   ]
  },
  {
   "cell_type": "markdown",
   "metadata": {},
   "source": [
    "- [Flight Web Scraping Script](flight_webscraper.ipynb)\n",
    "- [Hotel Web Scraping Script](hotel_webscraper.ipynb)\n",
    "- [Ticket Data Script](ticket_data.ipynb)\n",
    "- [Database Creation SQL Script](sql_querying.ipynb)\n",
    "- [Optimization Model in Julia](optimizer.jl)"
   ]
  },
  {
   "cell_type": "markdown",
   "metadata": {},
   "source": [
    "## 6. Further Implementation ##"
   ]
  }
 ],
 "metadata": {
  "@webio": {
   "lastCommId": null,
   "lastKernelId": null
  },
  "kernelspec": {
   "display_name": "venv",
   "language": "python",
   "name": "python3"
  },
  "language_info": {
   "file_extension": ".jl",
   "mimetype": "application/julia",
   "name": "python",
   "version": "3.11.4"
  }
 },
 "nbformat": 4,
 "nbformat_minor": 4
}
