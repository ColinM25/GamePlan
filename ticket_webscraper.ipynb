{
 "cells": [
  {
   "cell_type": "code",
   "execution_count": 1,
   "metadata": {},
   "outputs": [],
   "source": [
    "import requests\n",
    "from bs4 import BeautifulSoup\n",
    "import csv\n",
    "from datetime import datetime"
   ]
  },
  {
   "cell_type": "code",
   "execution_count": 4,
   "metadata": {},
   "outputs": [
    {
     "data": {
      "text/plain": [
       "'https://seatgeek.com/las-vegas-raiders-tickets/1-5-2025-las-vegas-nevada-allegiant-stadium/nfl/6413358'"
      ]
     },
     "execution_count": 4,
     "metadata": {},
     "output_type": "execute_result"
    }
   ],
   "source": [
    "game_ids = {\n",
    "    \"DEN\": '16890027',\n",
    "    \"CHI\": '16890066',\n",
    "    \"GB\": '16890066',\n",
    "    \"DET\": '16890046',\n",
    "    \"IND\": '16890111',\n",
    "    \"JAX\": '16890111',\n",
    "    \"TEN\": '6396403',\n",
    "    \"NE\": '16890256',\n",
    "    \"BUF\": '16890256',\n",
    "    \"MIA\": '16890297',\n",
    "    \"NYJ\": '16890297',\n",
    "    \"BAL\": '6413358',\n",
    "    \"CIN\": '16890335',\n",
    "    \"CLE\": '6413358',\n",
    "    \"PIT\": '16890335',\n",
    "    \"HOU\": '6396403',\n",
    "    \"KC\": '16890027',\n",
    "    \"LV\": '16890160',\n",
    "    \"LAC\": '16890160',\n",
    "    \"LAR\": '16890199',\n",
    "    \"SEA\": '16890199',\n",
    "    \"ARI\": '6471004',\n",
    "    \"SF\": '6471004',\n",
    "    \"ATL\": '16889912',\n",
    "    \"CAR\": '16889912',\n",
    "    \"NO\": '16890394',\n",
    "    \"TB\": '16890394',\n",
    "    \"NYG\": '16890313',\n",
    "    \"DAL\": '6446882',\n",
    "    \"WAS\": '6446882',\n",
    "    \"PHI\": '16890313',\n",
    "    \"MIN\": '16890046'\n",
    "}\n",
    "gameid = game_ids['BAL']\n",
    "url = f\"https://seatgeek.com/las-vegas-raiders-tickets/1-5-2025-las-vegas-nevada-allegiant-stadium/nfl/{gameid}\"\n",
    "url"
   ]
  },
  {
   "cell_type": "code",
   "execution_count": null,
   "metadata": {},
   "outputs": [],
   "source": []
  }
 ],
 "metadata": {
  "kernelspec": {
   "display_name": "venv",
   "language": "python",
   "name": "python3"
  },
  "language_info": {
   "codemirror_mode": {
    "name": "ipython",
    "version": 3
   },
   "file_extension": ".py",
   "mimetype": "text/x-python",
   "name": "python",
   "nbconvert_exporter": "python",
   "pygments_lexer": "ipython3",
   "version": "3.11.4"
  }
 },
 "nbformat": 4,
 "nbformat_minor": 2
}
